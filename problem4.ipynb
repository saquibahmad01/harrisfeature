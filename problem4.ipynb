{
  "nbformat": 4,
  "nbformat_minor": 0,
  "metadata": {
    "colab": {
      "name": "problem4.ipynb",
      "provenance": [],
      "collapsed_sections": []
    },
    "kernelspec": {
      "name": "python3",
      "display_name": "Python 3"
    }
  },
  "cells": [
    {
      "cell_type": "code",
      "metadata": {
        "id": "QXra0DpwPC92",
        "colab_type": "code",
        "outputId": "73fbbb36-da85-486d-da4d-ff9890116b41",
        "colab": {
          "base_uri": "https://localhost:8080/",
          "height": 1000
        }
      },
      "source": [
        "import cv2\n",
        "import numpy as np\n",
        "import matplotlib.pyplot as plt\n",
        "import math\n",
        "from google.colab.patches import cv2_imshow\n",
        "\n",
        "\n",
        "image =np.ones([300,300],dtype=np.uint8)\n",
        "\n",
        "print(image.shape[0:2])\n",
        "\n",
        "mask = np.zeros(image.shape, dtype=np.uint8)\n",
        "plt.imshow(mask,'gray')\n",
        "plt.show()\n",
        "\n",
        "roi_corners = np.array([[(100,50),(97,150),(156,152),(150,90)]], dtype=np.int32)\n",
        "print(roi_corners.shape)\n",
        "\n",
        "\n",
        "cv2.fillPoly(mask, roi_corners,1)\n",
        "\n",
        "# apply the mask\n",
        "masked_image = cv2.bitwise_and(image, mask)\n",
        "num_rows,num_cols=masked_image.shape[0:2]\n",
        "plt.imshow(masked_image,'gray')\n",
        "plt.show()\n",
        "# save the result\n",
        "\n",
        "masked_image = np.float32(masked_image)\n",
        "\n",
        "\n",
        "M = cv2.getRotationMatrix2D((num_cols/2,num_rows/2),45,1)\n",
        "translation_matrix = np.float32([ [1,0,100], [0,1,30] ])\n",
        "img_translation = cv2.warpAffine(masked_image, translation_matrix, (num_cols , num_rows))\n",
        "plt.imshow(img_translation,'gray')\n",
        "plt.show()\n",
        "\n",
        "\n",
        "img_rotation=cv2.warpAffine(img_translation,M,(num_cols,num_rows))\n",
        "plt.imshow(img_rotation,'gray')\n",
        "plt.show()\n"
      ],
      "execution_count": 3,
      "outputs": [
        {
          "output_type": "stream",
          "text": [
            "(300, 300)\n"
          ],
          "name": "stdout"
        },
        {
          "output_type": "display_data",
          "data": {
            "image/png": "[encoded data removed]",
            "text/plain": [
              "<Figure size 432x288 with 1 Axes>"
            ]
          },
          "metadata": {
            "tags": []
          }
        },
        {
          "output_type": "stream",
          "text": [
            "(1, 4, 2)\n"
          ],
          "name": "stdout"
        },
        {
          "output_type": "display_data",
          "data": {
            "image/png": "[encoded data removed]",
            "text/plain": [
              "<Figure size 432x288 with 1 Axes>"
            ]
          },
          "metadata": {
            "tags": []
          }
        },
        {
          "output_type": "display_data",
          "data": {
            "image/png": "[encoded data removed]",
            "text/plain": [
              "<Figure size 432x288 with 1 Axes>"
            ]
          },
          "metadata": {
            "tags": []
          }
        },
        {
          "output_type": "display_data",
          "data": {
            "image/png": "[encoded data removed]",
            "text/plain": [
              "<Figure size 432x288 with 1 Axes>"
            ]
          },
          "metadata": {
            "tags": []
          }
        }
      ]
    },
    {
      "cell_type": "code",
      "metadata": {
        "id": "70v5ImgT3v2n",
        "colab_type": "code",
        "colab": {}
      },
      "source": [
        "def findcorner(img, window_size, k, thresh):\n",
        "  \n",
        "    dy, dx = np.gradient(img)\n",
        "    print(dy)\n",
        "    print(dx)\n",
        "    Ixx = dx**2\n",
        "    Ixy = dy*dx\n",
        "    Iyy = dy**2\n",
        "    height = img.shape[0]\n",
        "    width = img.shape[1]\n",
        "\n",
        "    cornerList = []\n",
        "    featurelist = []\n",
        "    newImg = img.copy()\n",
        "    color_img = cv2.cvtColor(newImg, cv2.COLOR_GRAY2RGB)\n",
        "    offset = int(window_size/2)\n",
        "    plt.imshow(color_img)\n",
        "    plt.show()\n",
        "    #Loop through image and find our corners\n",
        "    print (\"Finding Corners...\")\n",
        "    for y in range(offset, height-offset):\n",
        "        for x in range(offset, width-offset):\n",
        "            #Calculate sum of squares\n",
        "            windowIxx = Ixx[y-offset:y+offset+1, x-offset:x+offset+1]\n",
        "            windowIxy = Ixy[y-offset:y+offset+1, x-offset:x+offset+1]\n",
        "            windowIyy = Iyy[y-offset:y+offset+1, x-offset:x+offset+1]\n",
        "            Sxx = windowIxx.sum()\n",
        "            Sxy = windowIxy.sum()\n",
        "            Syy = windowIyy.sum()\n",
        "\n",
        "            #Find determinant and trace, use to get corner response\n",
        "            det = (Sxx * Syy) - (Sxy**2)\n",
        "            trace = Sxx + Syy\n",
        "            r = det - k*(trace**2)\n",
        "#             print(r)\n",
        "            #If corner response is over threshold, color the point and add to corner list\n",
        "            if r > thresh:\n",
        "#                 print (x, y, r)\n",
        "       \n",
        "                cornerList.append([y, x, r])\n",
        "                color_img.itemset((y, x, 0),0)\n",
        "                color_img.itemset((y, x, 1), 0)\n",
        "                color_img.itemset((y, x, 2), 255)\n",
        "        \n",
        "                \n",
        "    plt.imshow(color_img)\n",
        "    plt.show()\n",
        "    \n",
        "    return color_img,cornerList\n",
        "      "
      ],
      "execution_count": 0,
      "outputs": []
    },
    {
      "cell_type": "code",
      "metadata": {
        "id": "RiLjcI1C5d6b",
        "colab_type": "code",
        "outputId": "8517667f-4816-4751-f370-ad2d1b32e23d",
        "colab": {
          "base_uri": "https://localhost:8080/",
          "height": 1000
        }
      },
      "source": [
        "finalimage , cornerList = findcorner(masked_image,10,0.04,3.0)\n",
        "finalimage2 , cornerList2 = findcorner(img_translation,10,0.04,3.0)\n",
        "finalimage3 , cornerList3 = findcorner(img_rotation,10,0.04,3.0)\n",
        "\n",
        "\n",
        "cornerList=np.asarray(cornerList)\n"
      ],
      "execution_count": 5,
      "outputs": [
        {
          "output_type": "stream",
          "text": [
            "[[0. 0. 0. ... 0. 0. 0.]\n",
            " [0. 0. 0. ... 0. 0. 0.]\n",
            " [0. 0. 0. ... 0. 0. 0.]\n",
            " ...\n",
            " [0. 0. 0. ... 0. 0. 0.]\n",
            " [0. 0. 0. ... 0. 0. 0.]\n",
            " [0. 0. 0. ... 0. 0. 0.]]\n",
            "[[0. 0. 0. ... 0. 0. 0.]\n",
            " [0. 0. 0. ... 0. 0. 0.]\n",
            " [0. 0. 0. ... 0. 0. 0.]\n",
            " ...\n",
            " [0. 0. 0. ... 0. 0. 0.]\n",
            " [0. 0. 0. ... 0. 0. 0.]\n",
            " [0. 0. 0. ... 0. 0. 0.]]\n"
          ],
          "name": "stdout"
        },
        {
          "output_type": "display_data",
          "data": {
            "image/png": "[encoded data removed]",
            "text/plain": [
              "<Figure size 432x288 with 1 Axes>"
            ]
          },
          "metadata": {
            "tags": []
          }
        },
        {
          "output_type": "stream",
          "text": [
            "Finding Corners...\n"
          ],
          "name": "stdout"
        },
        {
          "output_type": "stream",
          "text": [
            "Clipping input data to the valid range for imshow with RGB data ([0..1] for floats or [0..255] for integers).\n"
          ],
          "name": "stderr"
        },
        {
          "output_type": "display_data",
          "data": {
            "image/png": "[encoded data removed]",
            "text/plain": [
              "<Figure size 432x288 with 1 Axes>"
            ]
          },
          "metadata": {
            "tags": []
          }
        },
        {
          "output_type": "stream",
          "text": [
            "[[0. 0. 0. ... 0. 0. 0.]\n",
            " [0. 0. 0. ... 0. 0. 0.]\n",
            " [0. 0. 0. ... 0. 0. 0.]\n",
            " ...\n",
            " [0. 0. 0. ... 0. 0. 0.]\n",
            " [0. 0. 0. ... 0. 0. 0.]\n",
            " [0. 0. 0. ... 0. 0. 0.]]\n",
            "[[0. 0. 0. ... 0. 0. 0.]\n",
            " [0. 0. 0. ... 0. 0. 0.]\n",
            " [0. 0. 0. ... 0. 0. 0.]\n",
            " ...\n",
            " [0. 0. 0. ... 0. 0. 0.]\n",
            " [0. 0. 0. ... 0. 0. 0.]\n",
            " [0. 0. 0. ... 0. 0. 0.]]\n"
          ],
          "name": "stdout"
        },
        {
          "output_type": "display_data",
          "data": {
            "image/png": "[encoded data removed]",
            "text/plain": [
              "<Figure size 432x288 with 1 Axes>"
            ]
          },
          "metadata": {
            "tags": []
          }
        },
        {
          "output_type": "stream",
          "text": [
            "Finding Corners...\n"
          ],
          "name": "stdout"
        },
        {
          "output_type": "stream",
          "text": [
            "Clipping input data to the valid range for imshow with RGB data ([0..1] for floats or [0..255] for integers).\n"
          ],
          "name": "stderr"
        },
        {
          "output_type": "display_data",
          "data": {
            "image/png": "[encoded data removed]",
            "text/plain": [
              "<Figure size 432x288 with 1 Axes>"
            ]
          },
          "metadata": {
            "tags": []
          }
        },
        {
          "output_type": "stream",
          "text": [
            "[[0. 0. 0. ... 0. 0. 0.]\n",
            " [0. 0. 0. ... 0. 0. 0.]\n",
            " [0. 0. 0. ... 0. 0. 0.]\n",
            " ...\n",
            " [0. 0. 0. ... 0. 0. 0.]\n",
            " [0. 0. 0. ... 0. 0. 0.]\n",
            " [0. 0. 0. ... 0. 0. 0.]]\n",
            "[[0. 0. 0. ... 0. 0. 0.]\n",
            " [0. 0. 0. ... 0. 0. 0.]\n",
            " [0. 0. 0. ... 0. 0. 0.]\n",
            " ...\n",
            " [0. 0. 0. ... 0. 0. 0.]\n",
            " [0. 0. 0. ... 0. 0. 0.]\n",
            " [0. 0. 0. ... 0. 0. 0.]]\n"
          ],
          "name": "stdout"
        },
        {
          "output_type": "display_data",
          "data": {
            "image/png": "[encoded data removed]",
            "text/plain": [
              "<Figure size 432x288 with 1 Axes>"
            ]
          },
          "metadata": {
            "tags": []
          }
        },
        {
          "output_type": "stream",
          "text": [
            "Finding Corners...\n"
          ],
          "name": "stdout"
        },
        {
          "output_type": "stream",
          "text": [
            "Clipping input data to the valid range for imshow with RGB data ([0..1] for floats or [0..255] for integers).\n"
          ],
          "name": "stderr"
        },
        {
          "output_type": "display_data",
          "data": {
            "image/png": "[encoded data removed]",
            "text/plain": [
              "<Figure size 432x288 with 1 Axes>"
            ]
          },
          "metadata": {
            "tags": []
          }
        }
      ]
    },
    {
      "cell_type": "markdown",
      "metadata": {
        "id": "HixOGg1tnG5o",
        "colab_type": "text"
      },
      "source": [
        "roi_corners = np.array([[(100,50),(97,150),(156,152),(150,90)]], dtype=np.int32)"
      ]
    },
    {
      "cell_type": "code",
      "metadata": {
        "id": "PP99urxIZUgA",
        "colab_type": "code",
        "outputId": "9aef4c2e-6950-4c03-9711-7d80e1ca65b8",
        "colab": {
          "base_uri": "https://localhost:8080/",
          "height": 1000
        }
      },
      "source": [
        "\n",
        "\n",
        "def kmeanscalc(Z):\n",
        "\n",
        "      # convert to np.float32\n",
        "      Z = np.float32(Z)\n",
        "\n",
        "      # define criteria, number of clusters(K) and apply kmeans()\n",
        "      criteria = (cv2.TERM_CRITERIA_EPS + cv2.TERM_CRITERIA_MAX_ITER, 20, 1.0)\n",
        "      K = 4\n",
        "      ret,label,center=cv2.kmeans(Z,K,None,criteria,20,cv2.KMEANS_PP_CENTERS)\n",
        "      center=cv2.kmeans(Z,K,None,criteria,20,cv2.KMEANS_PP_CENTERS)[2]\n",
        "      print(ret)\n",
        "      print(label.shape[0])\n",
        "#       print(label)\n",
        "      print(center)\n",
        "      print(center.shape[0:2])\n",
        "      # Now convert back into uint8, and make original image\n",
        "      center = np.uint8(center)\n",
        "      return center\n",
        "\n",
        "center=kmeanscalc(cornerList)\n",
        "\n",
        "center2=kmeanscalc(cornerList2)\n",
        "\n",
        "center3=kmeanscalc(cornerList3)\n",
        "\n",
        "print(center2[0][0])\n",
        "plt.imshow(finalimage)\n",
        "plt.show()\n",
        "plt.imshow(finalimage2)\n",
        "plt.show()\n",
        "plt.imshow(finalimage3)\n",
        "\n"
      ],
      "execution_count": 7,
      "outputs": [
        {
          "output_type": "stream",
          "text": [
            "Clipping input data to the valid range for imshow with RGB data ([0..1] for floats or [0..255] for integers).\n"
          ],
          "name": "stderr"
        },
        {
          "output_type": "stream",
          "text": [
            "11370.233023405075\n",
            "339\n",
            "[[148.925      98.075005    8.430467 ]\n",
            " [ 53.046726  101.373825    9.174322 ]\n",
            " [150.80232   155.15117     9.360608 ]\n",
            " [ 90.57576   149.24243     5.4005666]]\n",
            "(4, 3)\n",
            "11370.233053445816\n",
            "339\n",
            "[[ 83.04673   201.37383     9.174322 ]\n",
            " [178.925     198.075       8.430467 ]\n",
            " [180.80232   255.15117     9.360608 ]\n",
            " [120.57576   249.24243     5.4005666]]\n",
            "(4, 3)\n",
            "6095.505990117788\n",
            "281\n",
            "[[136.17722   204.4557      8.221445 ]\n",
            " [ 66.36471   139.74118     6.6470046]\n",
            " [ 97.545456  245.31169     8.664345 ]\n",
            " [ 59.275     198.825       3.59504  ]]\n",
            "(4, 3)\n",
            "83\n"
          ],
          "name": "stdout"
        },
        {
          "output_type": "display_data",
          "data": {
            "image/png": "[encoded data removed]",
            "text/plain": [
              "<Figure size 432x288 with 1 Axes>"
            ]
          },
          "metadata": {
            "tags": []
          }
        },
        {
          "output_type": "stream",
          "text": [
            "Clipping input data to the valid range for imshow with RGB data ([0..1] for floats or [0..255] for integers).\n"
          ],
          "name": "stderr"
        },
        {
          "output_type": "display_data",
          "data": {
            "image/png": "[encoded data removed]",
            "text/plain": [
              "<Figure size 432x288 with 1 Axes>"
            ]
          },
          "metadata": {
            "tags": []
          }
        },
        {
          "output_type": "stream",
          "text": [
            "Clipping input data to the valid range for imshow with RGB data ([0..1] for floats or [0..255] for integers).\n"
          ],
          "name": "stderr"
        },
        {
          "output_type": "execute_result",
          "data": {
            "text/plain": [
              "<matplotlib.image.AxesImage at 0x7f7b82708940>"
            ]
          },
          "metadata": {
            "tags": []
          },
          "execution_count": 7
        },
        {
          "output_type": "display_data",
          "data": {
            "image/png": "[encoded data removed]",
            "text/plain": [
              "<Figure size 432x288 with 1 Axes>"
            ]
          },
          "metadata": {
            "tags": []
          }
        }
      ]
    },
    {
      "cell_type": "code",
      "metadata": {
        "id": "ebsaJ-r92yQA",
        "colab_type": "code",
        "colab": {}
      },
      "source": [
        "def euclideanandangle(corner):\n",
        "  \n",
        "  \n",
        "  buffer = corner.astype(float)\n",
        "  distance=[]\n",
        "  distance2=[]\n",
        "  distance3=[]\n",
        "  distance4=[]\n",
        "  for i in range(1,4):\n",
        "        distance.append(math.sqrt(((buffer[0][0]-buffer[i][0])**2)+((buffer[0][1]-buffer[i][1])**2)))\n",
        "        \n",
        "  for i in range(0,4):\n",
        "      if i == 1:\n",
        "        continue\n",
        "      distance2.append(math.sqrt(((buffer[1][0]-buffer[i][0])**2)+((buffer[1][1]-buffer[i][1])**2)))\n",
        "    \n",
        "  for i in range(0,4):\n",
        "      if i==2:\n",
        "        continue\n",
        "      distance3.append(math.sqrt(((buffer[2][0]-buffer[i][0])**2)+((buffer[2][1]-buffer[i][1])**2)))\n",
        "  for i in range(0,4):\n",
        "        if i ==3:\n",
        "          continue\n",
        "        distance4.append(math.sqrt(((buffer[3][0]-buffer[i][0])**2)+((buffer[3][1]-buffer[i][1])**2)))\n",
        "\n",
        "    \n",
        "\n",
        "    \n",
        "  return distance,distance2,distance3,distance4\n",
        "    \n",
        "    \n",
        "    "
      ],
      "execution_count": 0,
      "outputs": []
    },
    {
      "cell_type": "code",
      "metadata": {
        "id": "CTv9CH8MAReU",
        "colab_type": "code",
        "colab": {}
      },
      "source": [
        "distances1 = euclideanandangle(center)\n",
        "\n",
        "distances2 = euclideanandangle(center2)\n",
        "\n",
        "distances3 = euclideanandangle(center3)\n",
        "\n",
        "\n",
        "\n",
        "distances1=np.asarray(distances1)\n",
        "distances2=np.asarray(distances2)\n",
        "distances3=np.asarray(distances3)\n"
      ],
      "execution_count": 0,
      "outputs": []
    },
    {
      "cell_type": "code",
      "metadata": {
        "id": "BSGJLb2jNOOu",
        "colab_type": "code",
        "colab": {}
      },
      "source": [
        "#Time to match the lines \n",
        "\n",
        "\n",
        "def tmatcher(test1,test2):\n",
        "  \n",
        "    matchlist=[]\n",
        "    for j in range(0,4):\n",
        "      diff=0.0\n",
        "      for i in range(0,3):\n",
        "            diff+=(test1[0][i]-test2[j][i])\n",
        "      if diff<0.5 and diff>-0.5:\n",
        "        print(diff)\n",
        "        matchlist.append(j)\n",
        "    \n",
        "    for j in range(0,4):\n",
        "      diff=0.0\n",
        "      for i in range(0,3):\n",
        "            diff+=(test1[1][i]-test2[j][i])\n",
        "      if diff<0.5 and diff>-0.5:\n",
        "        print(diff)\n",
        "        matchlist.append(j)\n",
        "\n",
        "    for j in range(0,4):\n",
        "      diff=0.0\n",
        "      for i in range(0,3):\n",
        "            diff+=(test1[2][i]-test2[j][i])\n",
        "      if diff<0.5 and diff>-0.5:\n",
        "        print(diff)\n",
        "        matchlist.append(j)\n",
        "     \n",
        "    for j in range(0,4):\n",
        "      diff=0.0\n",
        "      for i in range(0,3):\n",
        "            diff+=(test1[3][i]-test2[j][i])\n",
        "      if diff<0.5 and diff>-0.5:\n",
        "        print(diff)\n",
        "        matchlist.append(j)\n",
        "        \n",
        "\n",
        "    return matchlist\n",
        "\n",
        "  \n",
        "  \n",
        "def rmatcher(test1,test2):\n",
        "  \n",
        "    matchlist=[]\n",
        "    for j in range(0,4):\n",
        "      diff=0.0\n",
        "      for i in range(0,3):\n",
        "            diff+=(test1[0][i]-test2[j][i])\n",
        "      if diff<1.5 and diff>-0.5:\n",
        "        print(diff)\n",
        "        matchlist.append(j)\n",
        "    \n",
        "    for j in range(0,4):\n",
        "      diff=0.0\n",
        "      for i in range(0,3):\n",
        "            diff+=(test1[1][i]-test2[j][i])\n",
        "      if diff<1.5 and diff>-0.5:\n",
        "        print(diff)\n",
        "        matchlist.append(j)\n",
        "\n",
        "    for j in range(0,4):\n",
        "      diff=0.0\n",
        "      for i in range(0,3):\n",
        "            diff+=(test1[2][i]-test2[j][i])\n",
        "      if diff<1.5 and diff>-0.5:\n",
        "        print(diff)\n",
        "        matchlist.append(j)\n",
        "     \n",
        "    for j in range(0,4):\n",
        "      diff=0.0\n",
        "      for i in range(0,3):\n",
        "            diff+=(test1[3][i]-test2[j][i])\n",
        "      if diff<1.5 and diff>-0.5:\n",
        "        print(diff)\n",
        "        matchlist.append(j)\n",
        "        \n",
        "\n",
        "    return matchlist\n",
        "  "
      ],
      "execution_count": 0,
      "outputs": []
    },
    {
      "cell_type": "code",
      "metadata": {
        "id": "PuiL_W-pPSet",
        "colab_type": "code",
        "outputId": "337a962f-3f58-40aa-959c-1c0ae107d808",
        "colab": {
          "base_uri": "https://localhost:8080/",
          "height": 628
        }
      },
      "source": [
        "matchfor1in2=tmatcher(distances1,distances2)\n",
        "matchfor1in3=rmatcher(distances1,distances3)\n",
        "\n",
        "\n",
        "newimage1=np.hstack((finalimage,finalimage2))\n",
        "\n",
        "newimage2=np.hstack((finalimage,finalimage3))\n",
        "\n",
        "lineThickness = 2\n",
        "cv2.line(newimage1, (center[0][1],center[0][0]), (center2[matchfor1in2[0]][1]+300,center2[matchfor1in2[0]][0]), (0,255,0), lineThickness)\n",
        "cv2.line(newimage1, (center[1][1],center[1][0]), (center2[matchfor1in2[1]][1]+300,center2[matchfor1in2[1]][0]), (255,0,0), lineThickness)\n",
        "cv2.line(newimage1, (center[2][1],center[2][0]), (center2[matchfor1in2[2]][1]+300,center2[matchfor1in2[2]][0]), (0,0,255), lineThickness)\n",
        "cv2.line(newimage1, (center[3][1],center[3][0]), (center2[matchfor1in2[3]][1]+300,center2[matchfor1in2[3]][0]), (0,0,255), lineThickness)\n",
        "\n",
        "cv2.line(newimage2, (center[0][1],center[0][0]), (center3[matchfor1in3[0]][1]+300,center3[matchfor1in3[0]][0]), (0,255,0), lineThickness)\n",
        "cv2.line(newimage2, (center[1][1],center[1][0]), (center3[matchfor1in3[1]][1]+300,center3[matchfor1in3[1]][0]), (255,0,0), lineThickness)\n",
        "cv2.line(newimage2, (center[2][1],center[2][0]), (center3[matchfor1in3[2]][1]+300,center3[matchfor1in3[2]][0]), (0,0,255), lineThickness)\n",
        "cv2.line(newimage2, (center[3][1],center[3][0]), (center3[matchfor1in3[3]][1]+300,center3[matchfor1in3[3]][0]), (0,0,255), lineThickness)\n",
        "\n",
        "\n",
        "\n",
        "\n",
        "\n",
        "plt.imshow(newimage1)\n",
        "plt.show()\n",
        "\n",
        "\n",
        "plt.imshow(newimage2)\n",
        "plt.show()\n",
        "\n",
        "print(matchfor1in2)\n",
        "print(matchfor1in3)"
      ],
      "execution_count": 17,
      "outputs": [
        {
          "output_type": "stream",
          "text": [
            "Clipping input data to the valid range for imshow with RGB data ([0..1] for floats or [0..255] for integers).\n"
          ],
          "name": "stderr"
        },
        {
          "output_type": "stream",
          "text": [
            "0.0\n",
            "0.0\n",
            "0.0\n",
            "0.0\n",
            "-0.028649731862024908\n",
            "1.291955513744199\n",
            "0.8860478857627427\n",
            "1.050677969634279\n"
          ],
          "name": "stdout"
        },
        {
          "output_type": "display_data",
          "data": {
            "image/png": "[encoded data removed]",
            "text/plain": [
              "<Figure size 432x288 with 1 Axes>"
            ]
          },
          "metadata": {
            "tags": []
          }
        },
        {
          "output_type": "stream",
          "text": [
            "Clipping input data to the valid range for imshow with RGB data ([0..1] for floats or [0..255] for integers).\n"
          ],
          "name": "stderr"
        },
        {
          "output_type": "display_data",
          "data": {
            "image/png": "[encoded data removed]",
            "text/plain": [
              "<Figure size 432x288 with 1 Axes>"
            ]
          },
          "metadata": {
            "tags": []
          }
        },
        {
          "output_type": "stream",
          "text": [
            "[1, 0, 2, 3]\n",
            "[0, 1, 2, 3]\n"
          ],
          "name": "stdout"
        }
      ]
    },
    {
      "cell_type": "code",
      "metadata": {
        "id": "tmUPkecSrIm_",
        "colab_type": "code",
        "outputId": "4e53336a-d95b-4f28-a174-1889851a1f48",
        "colab": {
          "base_uri": "https://localhost:8080/",
          "height": 207
        }
      },
      "source": [
        "xarray = np.array([[center[0][0],center[0][1],1,0,0,0],\n",
        "                   [0,0,0,center[0][0],center[0][1],1],\n",
        "                   [center[1][0],center[1][1],1,0,0,0],\n",
        "                   [0,0,0,center[1][0],center[1][1],1],\n",
        "                  [center[2][0],center[2][1],1,0,0,0],\n",
        "                   [0,0,0,center[2][0],center[2][1],1]\n",
        "                  ])\n",
        "print(xarray)\n",
        "\n",
        "\n",
        "yarray = np.array([center3[matchfor1in3[0]][0],\n",
        "                   center3[matchfor1in3[0]][1],\n",
        "                  center3[matchfor1in3[1]][0],\n",
        "                  center3[matchfor1in3[1]][1],\n",
        "                  center3[matchfor1in3[2]][0],\n",
        "                  center3[matchfor1in3[2]][1]\n",
        "                  ]\n",
        "                  )\n",
        "print(yarray)\n",
        "\n",
        "h = np.linalg.lstsq(xarray, yarray, rcond=None)[0]\n",
        "print(h[4])\n",
        "theta=math.asin(h[3])*180/math.pi\n",
        "print('The rotation is : ',theta,'degrees')\n",
        "print(h)\n",
        "print('The translation is',h[5],h[2])"
      ],
      "execution_count": 12,
      "outputs": [
        {
          "output_type": "stream",
          "text": [
            "[[148  98   1   0   0   0]\n",
            " [  0   0   0 148  98   1]\n",
            " [ 53 101   1   0   0   0]\n",
            " [  0   0   0  53 101   1]\n",
            " [150 155   1   0   0   0]\n",
            " [  0   0   0 150 155   1]]\n",
            "[136 204  66 139  97 245]\n",
            "0.694521306032097\n",
            "The rotation is :  44.92194145360759 degrees\n",
            "[ 0.71444383 -0.70927873 99.77162885  0.70614278  0.69452131 31.42778085]\n",
            "The translation is 31.427780852241426 99.77162885076558\n"
          ],
          "name": "stdout"
        }
      ]
    }
  ]
}